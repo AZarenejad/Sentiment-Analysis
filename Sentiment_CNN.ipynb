{
  "nbformat": 4,
  "nbformat_minor": 0,
  "metadata": {
    "colab": {
      "name": "Sentiment_CNN.ipynb",
      "provenance": [],
      "collapsed_sections": []
    },
    "kernelspec": {
      "name": "python3",
      "display_name": "Python 3"
    },
    "language_info": {
      "name": "python"
    },
    "accelerator": "GPU"
  },
  "cells": [
    {
      "cell_type": "markdown",
      "source": [
        "# Requirements"
      ],
      "metadata": {
        "id": "8R--13WC5iJp"
      }
    },
    {
      "cell_type": "code",
      "source": [
        "!pip install shap"
      ],
      "metadata": {
        "colab": {
          "base_uri": "https://localhost:8080/"
        },
        "id": "L1Mm5Eqe3ejY",
        "outputId": "2b8699f6-88f5-4026-b4df-50842414466a"
      },
      "execution_count": 3,
      "outputs": [
        {
          "output_type": "stream",
          "name": "stdout",
          "text": [
            "Collecting shap\n",
            "  Downloading shap-0.40.0-cp37-cp37m-manylinux2010_x86_64.whl (564 kB)\n",
            "\u001b[K     |████████████████████████████████| 564 kB 1.6 MB/s \n",
            "\u001b[?25hRequirement already satisfied: cloudpickle in /usr/local/lib/python3.7/dist-packages (from shap) (1.3.0)\n",
            "Requirement already satisfied: tqdm>4.25.0 in /usr/local/lib/python3.7/dist-packages (from shap) (4.62.3)\n",
            "Collecting slicer==0.0.7\n",
            "  Downloading slicer-0.0.7-py3-none-any.whl (14 kB)\n",
            "Requirement already satisfied: numba in /usr/local/lib/python3.7/dist-packages (from shap) (0.51.2)\n",
            "Requirement already satisfied: scipy in /usr/local/lib/python3.7/dist-packages (from shap) (1.4.1)\n",
            "Requirement already satisfied: pandas in /usr/local/lib/python3.7/dist-packages (from shap) (1.1.5)\n",
            "Requirement already satisfied: packaging>20.9 in /usr/local/lib/python3.7/dist-packages (from shap) (21.3)\n",
            "Requirement already satisfied: numpy in /usr/local/lib/python3.7/dist-packages (from shap) (1.19.5)\n",
            "Requirement already satisfied: scikit-learn in /usr/local/lib/python3.7/dist-packages (from shap) (1.0.1)\n",
            "Requirement already satisfied: pyparsing!=3.0.5,>=2.0.2 in /usr/local/lib/python3.7/dist-packages (from packaging>20.9->shap) (3.0.6)\n",
            "Requirement already satisfied: llvmlite<0.35,>=0.34.0.dev0 in /usr/local/lib/python3.7/dist-packages (from numba->shap) (0.34.0)\n",
            "Requirement already satisfied: setuptools in /usr/local/lib/python3.7/dist-packages (from numba->shap) (57.4.0)\n",
            "Requirement already satisfied: python-dateutil>=2.7.3 in /usr/local/lib/python3.7/dist-packages (from pandas->shap) (2.8.2)\n",
            "Requirement already satisfied: pytz>=2017.2 in /usr/local/lib/python3.7/dist-packages (from pandas->shap) (2018.9)\n",
            "Requirement already satisfied: six>=1.5 in /usr/local/lib/python3.7/dist-packages (from python-dateutil>=2.7.3->pandas->shap) (1.15.0)\n",
            "Requirement already satisfied: threadpoolctl>=2.0.0 in /usr/local/lib/python3.7/dist-packages (from scikit-learn->shap) (3.0.0)\n",
            "Requirement already satisfied: joblib>=0.11 in /usr/local/lib/python3.7/dist-packages (from scikit-learn->shap) (1.1.0)\n",
            "Installing collected packages: slicer, shap\n",
            "Successfully installed shap-0.40.0 slicer-0.0.7\n"
          ]
        }
      ]
    },
    {
      "cell_type": "code",
      "source": [
        "!pip install hazm"
      ],
      "metadata": {
        "colab": {
          "base_uri": "https://localhost:8080/"
        },
        "id": "V5rOecC25La4",
        "outputId": "fdab9a20-f325-4e19-c522-37cd4a1b86ea"
      },
      "execution_count": 17,
      "outputs": [
        {
          "output_type": "stream",
          "name": "stdout",
          "text": [
            "Collecting hazm\n",
            "  Downloading hazm-0.7.0-py3-none-any.whl (316 kB)\n",
            "\u001b[K     |████████████████████████████████| 316 kB 1.6 MB/s \n",
            "\u001b[?25hCollecting nltk==3.3\n",
            "  Downloading nltk-3.3.0.zip (1.4 MB)\n",
            "\u001b[K     |████████████████████████████████| 1.4 MB 31.6 MB/s \n",
            "\u001b[?25hCollecting libwapiti>=0.2.1\n",
            "  Downloading libwapiti-0.2.1.tar.gz (233 kB)\n",
            "\u001b[K     |████████████████████████████████| 233 kB 46.6 MB/s \n",
            "\u001b[?25hRequirement already satisfied: six in /usr/local/lib/python3.7/dist-packages (from nltk==3.3->hazm) (1.15.0)\n",
            "Building wheels for collected packages: nltk, libwapiti\n",
            "  Building wheel for nltk (setup.py) ... \u001b[?25l\u001b[?25hdone\n",
            "  Created wheel for nltk: filename=nltk-3.3-py3-none-any.whl size=1394486 sha256=6ad9071a6ad65a1d0e5a4e889f54ed7a42ee199f61a34a7af55e25dfb52bf093\n",
            "  Stored in directory: /root/.cache/pip/wheels/9b/fd/0c/d92302c876e5de87ebd7fc0979d82edb93e2d8d768bf71fac4\n",
            "  Building wheel for libwapiti (setup.py) ... \u001b[?25l\u001b[?25hdone\n",
            "  Created wheel for libwapiti: filename=libwapiti-0.2.1-cp37-cp37m-linux_x86_64.whl size=153874 sha256=6ffeb40332abfd6f2d47c9c6af34252b8e03000776f46f9ee5f77a62f30fa3c6\n",
            "  Stored in directory: /root/.cache/pip/wheels/ab/b2/5b/0fe4b8f5c0e65341e8ea7bb3f4a6ebabfe8b1ac31322392dbf\n",
            "Successfully built nltk libwapiti\n",
            "Installing collected packages: nltk, libwapiti, hazm\n",
            "  Attempting uninstall: nltk\n",
            "    Found existing installation: nltk 3.2.5\n",
            "    Uninstalling nltk-3.2.5:\n",
            "      Successfully uninstalled nltk-3.2.5\n",
            "Successfully installed hazm-0.7.0 libwapiti-0.2.1 nltk-3.3\n"
          ]
        }
      ]
    },
    {
      "cell_type": "markdown",
      "source": [
        "# Get fast text\n",
        "Download FastText word vectors file for Persian"
      ],
      "metadata": {
        "id": "UIr3QirB6dnA"
      }
    },
    {
      "cell_type": "code",
      "source": [
        "!wget https://dl.fbaipublicfiles.com/fasttext/vectors-wiki/wiki.fa.vec"
      ],
      "metadata": {
        "colab": {
          "base_uri": "https://localhost:8080/"
        },
        "id": "eflm67mx6XKX",
        "outputId": "b76e118d-e565-4950-8245-948bf18d3d14"
      },
      "execution_count": 24,
      "outputs": [
        {
          "output_type": "stream",
          "name": "stdout",
          "text": [
            "--2022-01-07 14:20:24--  https://dl.fbaipublicfiles.com/fasttext/vectors-wiki/wiki.fa.vec\n",
            "Resolving dl.fbaipublicfiles.com (dl.fbaipublicfiles.com)... 172.67.9.4, 104.22.75.142, 104.22.74.142, ...\n",
            "Connecting to dl.fbaipublicfiles.com (dl.fbaipublicfiles.com)|172.67.9.4|:443... connected.\n",
            "HTTP request sent, awaiting response... 200 OK\n",
            "Length: 1105157170 (1.0G) [binary/octet-stream]\n",
            "Saving to: ‘wiki.fa.vec’\n",
            "\n",
            "wiki.fa.vec         100%[===================>]   1.03G  13.1MB/s    in 70s     \n",
            "\n",
            "2022-01-07 14:21:35 (15.0 MB/s) - ‘wiki.fa.vec’ saved [1105157170/1105157170]\n",
            "\n"
          ]
        }
      ]
    },
    {
      "cell_type": "code",
      "execution_count": 64,
      "metadata": {
        "id": "NUYQ9gtE0-Tm"
      },
      "outputs": [],
      "source": [
        "import time\n",
        "import pandas as pd\n",
        "import seaborn as sns\n",
        "import numpy as np\n",
        "\n",
        "from sklearn.model_selection import train_test_split\n",
        "from sklearn.feature_extraction.text import TfidfVectorizer, CountVectorizer\n",
        "from sklearn.linear_model import LogisticRegression\n",
        "\n",
        "# keras\n",
        "from keras.preprocessing.text import Tokenizer\n",
        "from keras.preprocessing.sequence import pad_sequences\n",
        "\n",
        "from keras import optimizers\n",
        "from keras.models import Sequential\n",
        "from keras.layers import Dense, Input, Embedding, Dropout\n",
        "from keras.layers import GlobalMaxPool1D, MaxPooling1D, GlobalMaxPooling1D\n",
        "from keras.layers import CuDNNLSTM, LSTM, Bidirectional\n",
        "from keras.layers.convolutional import Conv1D\n",
        "# from keras.utils import plot_model\n",
        "\n",
        "# Word Embedding\n",
        "from gensim.models import KeyedVectors\n",
        "\n",
        "# Preprocessing\n",
        "# from stopwords_guilannlp import stopwords_output\n",
        "from hazm import *\n",
        "\n",
        "# Visualization\n",
        "import matplotlib.pyplot as plt\n",
        "import shap\n",
        "%matplotlib inline\n",
        "pd.set_option('display.max_colwidth', None)\n",
        "\n",
        "# Measuring metrics\n",
        "from sklearn import metrics\n",
        "from sklearn.metrics import f1_score"
      ]
    },
    {
      "cell_type": "markdown",
      "source": [
        "# Loading Data"
      ],
      "metadata": {
        "id": "ecZtnDCm6B4I"
      }
    },
    {
      "cell_type": "code",
      "source": [
        "train_df = pd.read_csv(\"data/train.csv\", encoding=\"utf-8\")\n",
        "eval_df = pd.read_csv(\"data/eval.csv\", encoding=\"utf-8\")\n",
        "test_df = pd.read_csv(\"data/test.csv\", encoding=\"utf-8\")"
      ],
      "metadata": {
        "id": "uv9noUrU3XgY"
      },
      "execution_count": 5,
      "outputs": []
    },
    {
      "cell_type": "code",
      "source": [
        "train_df.info()\n",
        "print()\n",
        "eval_df.info()\n",
        "print()\n",
        "test_df.info()"
      ],
      "metadata": {
        "colab": {
          "base_uri": "https://localhost:8080/"
        },
        "id": "VxTLCQ0g6oSA",
        "outputId": "986d068f-7c5d-4158-b3fe-ad3864f6ba0f"
      },
      "execution_count": 28,
      "outputs": [
        {
          "output_type": "stream",
          "name": "stdout",
          "text": [
            "<class 'pandas.core.frame.DataFrame'>\n",
            "RangeIndex: 800 entries, 0 to 799\n",
            "Data columns (total 3 columns):\n",
            " #   Column      Non-Null Count  Dtype  \n",
            "---  ------      --------------  -----  \n",
            " 0   Unnamed: 0  800 non-null    int64  \n",
            " 1   comment     800 non-null    object \n",
            " 2   rate        800 non-null    float64\n",
            "dtypes: float64(1), int64(1), object(1)\n",
            "memory usage: 18.9+ KB\n",
            "\n",
            "<class 'pandas.core.frame.DataFrame'>\n",
            "RangeIndex: 200 entries, 0 to 199\n",
            "Data columns (total 3 columns):\n",
            " #   Column      Non-Null Count  Dtype  \n",
            "---  ------      --------------  -----  \n",
            " 0   Unnamed: 0  200 non-null    int64  \n",
            " 1   comment     200 non-null    object \n",
            " 2   rate        200 non-null    float64\n",
            "dtypes: float64(1), int64(1), object(1)\n",
            "memory usage: 4.8+ KB\n",
            "\n",
            "<class 'pandas.core.frame.DataFrame'>\n",
            "RangeIndex: 170 entries, 0 to 169\n",
            "Data columns (total 3 columns):\n",
            " #   Column      Non-Null Count  Dtype  \n",
            "---  ------      --------------  -----  \n",
            " 0   Unnamed: 0  170 non-null    int64  \n",
            " 1   comment     170 non-null    object \n",
            " 2   rate        170 non-null    float64\n",
            "dtypes: float64(1), int64(1), object(1)\n",
            "memory usage: 4.1+ KB\n"
          ]
        }
      ]
    },
    {
      "cell_type": "code",
      "source": [
        "# convert rate to 1 and -1 for binary classification\n",
        "train_df.loc[train_df['rate'] >= 0, 'rate'] = 1\n",
        "train_df.loc[train_df['rate'] < 0, 'rate'] = 0\n",
        "\n",
        "eval_df.loc[eval_df['rate'] >= 0, 'rate'] = 1\n",
        "eval_df.loc[eval_df['rate'] < 0, 'rate'] = 0\n",
        "\n",
        "test_df.loc[test_df['rate'] >= 0, 'rate'] = 1\n",
        "test_df.loc[test_df['rate'] < 0, 'rate'] = 0"
      ],
      "metadata": {
        "id": "N_Vzvpe03u9A"
      },
      "execution_count": 6,
      "outputs": []
    },
    {
      "cell_type": "code",
      "source": [
        "# See the data number of sentence in each category \n",
        "from collections import Counter\n",
        "cnt = Counter(train_df['rate'].values)\n",
        "cnt = dict(cnt)\n",
        "print(cnt)"
      ],
      "metadata": {
        "colab": {
          "base_uri": "https://localhost:8080/"
        },
        "id": "lZo6fQhb38yh",
        "outputId": "68e4fef8-342b-4833-c191-64b60b4285a7"
      },
      "execution_count": 8,
      "outputs": [
        {
          "output_type": "stream",
          "name": "stdout",
          "text": [
            "{1.0: 606, 0.0: 194}\n"
          ]
        }
      ]
    },
    {
      "cell_type": "code",
      "source": [
        "labels = list(cnt.keys())\n",
        "sizes = list(cnt.values())\n",
        "colors = ['#3fba36', '#66b3ff','#ffcc99','#ff9999', '#d44444']\n",
        "fig1, ax1 = plt.subplots()\n",
        "ax1.pie(sizes, labels=labels, colors=colors,\n",
        "        autopct='%1.1f%%', startangle=90)\n",
        "#draw circle\n",
        "centre_circle = plt.Circle((0,0),0.70,fc='white')\n",
        "fig = plt.gcf()\n",
        "fig.gca().add_artist(centre_circle)\n",
        "# Equal aspect ratio ensures that pie is drawn as a circle\n",
        "ax1.axis('equal')  \n",
        "plt.tight_layout()\n",
        "# Decomment following line if you want to save the figure\n",
        "# plt.savefig('distribution.png')\n",
        "plt.show()"
      ],
      "metadata": {
        "colab": {
          "base_uri": "https://localhost:8080/",
          "height": 297
        },
        "id": "tXz_7oGP4EUo",
        "outputId": "9e570810-a0db-4fbe-cce7-2744c591fb5c"
      },
      "execution_count": 9,
      "outputs": [
        {
          "output_type": "display_data",
          "data": {
            "image/png": "[encoded data removed]",
            "text/plain": [
              "<Figure size 432x288 with 1 Axes>"
            ]
          },
          "metadata": {}
        }
      ]
    },
    {
      "cell_type": "markdown",
      "source": [
        "# Preprocess"
      ],
      "metadata": {
        "id": "EogPq0oM4Jq4"
      }
    },
    {
      "cell_type": "code",
      "source": [
        "puncs = ['،', '.', ',', ':', ';', '\"']\n",
        "normalizer = Normalizer()\n",
        "lemmatizer = Lemmatizer()\n",
        "\n",
        "# turn a doc into clean tokens\n",
        "def clean_doc(doc):\n",
        "    # Normalize document using Hazm Normalizer\n",
        "    doc = normalizer.normalize(doc)\n",
        "    # Tokenize text\n",
        "    tokenized = word_tokenize(doc)\n",
        "    tokens = []\n",
        "    for t in tokenized:\n",
        "      temp = t\n",
        "      for p in puncs:\n",
        "        temp = temp.replace(p, '')\n",
        "      tokens.append(temp)\n",
        "    # tokens = [w for w in tokens if not w in stop_set]\n",
        "    # Remove stop words\n",
        "    tokens = [w for w in tokens if not len(w) <= 1]\n",
        "    tokens = [w for w in tokens if not w.isdigit()]\n",
        "    # Lemmatize sentence words using Hazm Lemmatizer\n",
        "    tokens = [lemmatizer.lemmatize(w) for w in tokens]\n",
        "    tokens = ' '.join(tokens)\n",
        "    return tokens"
      ],
      "metadata": {
        "id": "qOIelTQ_4MB4"
      },
      "execution_count": 20,
      "outputs": []
    },
    {
      "cell_type": "markdown",
      "source": [
        "# Prepare FastText Model"
      ],
      "metadata": {
        "id": "suDXSZZC5vC3"
      }
    },
    {
      "cell_type": "code",
      "source": [
        "EMBEDDING_FILE = 'wiki.fa.vec'\n",
        "\n",
        "def import_with_gensim(file_address):\n",
        "  # Creating the model\n",
        "  ft_model = KeyedVectors.load_word2vec_format(file_address)\n",
        "  # Getting the tokens\n",
        "  ft_words = []\n",
        "  for ft_word in ft_model.vocab:\n",
        "      ft_words.append(ft_word)\n",
        "  return ft_model, ft_words\n",
        "  \n",
        "ft_model, ft_words = import_with_gensim(EMBEDDING_FILE)"
      ],
      "metadata": {
        "id": "sA5OyczM5whX"
      },
      "execution_count": 29,
      "outputs": []
    },
    {
      "cell_type": "code",
      "source": [
        "# FastText embedding dimensionality\n",
        "embed_size = 300"
      ],
      "metadata": {
        "id": "zibaqHzT7hEO"
      },
      "execution_count": 30,
      "outputs": []
    },
    {
      "cell_type": "code",
      "source": [
        "# We get the mean and standard deviation of the embedding weights so that we could maintain the\n",
        "# same statistics for the rest of our own random generated weights.\n",
        "embedding_list = list()\n",
        "for w in ft_words:\n",
        "  embedding_list.append(ft_model[w])\n",
        "\n",
        "all_embedding = np.stack(embedding_list)\n",
        "emb_mean, emb_std = all_embedding.mean(), all_embedding.std()"
      ],
      "metadata": {
        "id": "GkxHK-h57jO2"
      },
      "execution_count": 31,
      "outputs": []
    },
    {
      "cell_type": "markdown",
      "source": [
        "# Apply preprocessing to data"
      ],
      "metadata": {
        "id": "xidIfz277q52"
      }
    },
    {
      "cell_type": "code",
      "source": [
        "# Apply preprocessing step to training data\n",
        "x_train = train_df['comment'].values\n",
        "y_train = train_df['rate'].values\n",
        "train_docs = np.empty_like(x_train)\n",
        "for index, document in enumerate(x_train):\n",
        "  train_docs[index] = clean_doc(document)"
      ],
      "metadata": {
        "id": "9xf0sPal7sEe"
      },
      "execution_count": 68,
      "outputs": []
    },
    {
      "cell_type": "code",
      "source": [
        "# Apply preprocessing step to eval data\n",
        "x_eval = eval_df['comment'].values\n",
        "y_eval = eval_df['rate'].values\n",
        "eval_docs = np.empty_like(x_eval)\n",
        "for index, document in enumerate(x_eval):\n",
        "  eval_docs[index] = clean_doc(document)"
      ],
      "metadata": {
        "id": "Iw_RtmOS8Ba_"
      },
      "execution_count": 69,
      "outputs": []
    },
    {
      "cell_type": "code",
      "source": [
        "# Apply preprocessing step to eval data\n",
        "x_test = test_df['comment'].values\n",
        "y_test = test_df['rate'].values\n",
        "test_docs = np.empty_like(x_test)\n",
        "for index, document in enumerate(x_test):\n",
        "  test_docs[index] = clean_doc(document)"
      ],
      "metadata": {
        "id": "AWl7k2208Eq-"
      },
      "execution_count": 70,
      "outputs": []
    },
    {
      "cell_type": "markdown",
      "source": [
        "# Setting tokenizer up"
      ],
      "metadata": {
        "id": "HWfcSx5o8lle"
      }
    },
    {
      "cell_type": "code",
      "source": [
        "num_words = 2500\n",
        "\n",
        "# Create the tokenizer\n",
        "tokenizer = Tokenizer()\n",
        "\n",
        "# fFt the tokenizer on the training documents\n",
        "tokenizer.fit_on_texts(train_docs)"
      ],
      "metadata": {
        "id": "bPSdwBzu8mhm"
      },
      "execution_count": 47,
      "outputs": []
    },
    {
      "cell_type": "code",
      "source": [
        "# Find maximum length of training sentences\n",
        "max_length = max([len(s.split()) for s in train_docs])\n",
        "print(\"max length:\", max_length)"
      ],
      "metadata": {
        "colab": {
          "base_uri": "https://localhost:8080/"
        },
        "id": "p8pY7sQS9Mf2",
        "outputId": "591d78e4-7f3a-4ded-923d-7e4d916013c9"
      },
      "execution_count": 49,
      "outputs": [
        {
          "output_type": "stream",
          "name": "stdout",
          "text": [
            "max length: 598\n"
          ]
        }
      ]
    },
    {
      "cell_type": "markdown",
      "source": [
        "# Embed sentences"
      ],
      "metadata": {
        "id": "-g2WUOUO9WIt"
      }
    },
    {
      "cell_type": "code",
      "source": [
        "# Embed training sequences\n",
        "encoded_docs = tokenizer.texts_to_sequences(train_docs)\n",
        "\n",
        "# Pad embeded training sequences\n",
        "x_train_padded = pad_sequences(encoded_docs, maxlen=max_length, padding='post')"
      ],
      "metadata": {
        "id": "S2r1aory9YE1"
      },
      "execution_count": 52,
      "outputs": []
    },
    {
      "cell_type": "code",
      "source": [
        "# Define vocabulary size (largest integer value)\n",
        "vocab_size = len(tokenizer.word_index)\n",
        "print('vocab size:', vocab_size)"
      ],
      "metadata": {
        "colab": {
          "base_uri": "https://localhost:8080/"
        },
        "id": "5LIUkF689kK2",
        "outputId": "678d9849-c9e0-44d6-ab83-3b3c7ddfaeba"
      },
      "execution_count": 54,
      "outputs": [
        {
          "output_type": "stream",
          "name": "stdout",
          "text": [
            "vocab size: 3718\n"
          ]
        }
      ]
    },
    {
      "cell_type": "code",
      "source": [
        "nb_words = len(tokenizer.word_index)\n",
        "\n",
        "# the size will be Number of Words in Vocab X Embedding Size\n",
        "embedding_matrix = np.random.normal(emb_mean, emb_std, (nb_words, embed_size))\n",
        "\n",
        "embeddedCount = 0\n",
        "for word, i in tokenizer.word_index.items():\n",
        "    i -= 1\n",
        "    if word in ft_model.vocab:\n",
        "        embedding_vector = ft_model[word]\n",
        "        embedding_matrix[i] = embedding_vector\n",
        "        embeddedCount += 1\n",
        "    # Unknown words\n",
        "    else:  \n",
        "        embedding_vector = ft_model['subdivision_name']\n",
        "        embedding_matrix[i] = embedding_vector\n",
        "        embeddedCount += 1\n",
        "\n",
        "print('total embedded:', embeddedCount, 'common words')\n",
        "print('Embedding matrix shape:', embedding_matrix.shape)"
      ],
      "metadata": {
        "colab": {
          "base_uri": "https://localhost:8080/"
        },
        "id": "lQNADr9N9tZ9",
        "outputId": "479a61bd-7cf6-4c91-fbcc-acd3d13399c3"
      },
      "execution_count": 55,
      "outputs": [
        {
          "output_type": "stream",
          "name": "stdout",
          "text": [
            "total embedded: 3718 common words\n",
            "Embedding matrix shape: (3718, 300)\n"
          ]
        }
      ]
    },
    {
      "cell_type": "code",
      "source": [
        "# Embed testing sequences\n",
        "encoded_docs = tokenizer.texts_to_sequences(test_docs)\n",
        "# Pad testing sequences\n",
        "x_test_padded = pad_sequences(encoded_docs, maxlen=max_length, padding='post')"
      ],
      "metadata": {
        "id": "056XmiIl97bN"
      },
      "execution_count": 57,
      "outputs": []
    },
    {
      "cell_type": "code",
      "source": [
        "# Embed eval sequences\n",
        "encoded_docs = tokenizer.texts_to_sequences(eval_docs)\n",
        "# Pad eval sequences\n",
        "x_eval_padded = pad_sequences(encoded_docs, maxlen=max_length, padding='post')"
      ],
      "metadata": {
        "id": "458UNegS9951"
      },
      "execution_count": 58,
      "outputs": []
    },
    {
      "cell_type": "markdown",
      "source": [
        "# Model"
      ],
      "metadata": {
        "id": "GUhmIo9x-JS8"
      }
    },
    {
      "cell_type": "markdown",
      "source": [
        "# CNN Model"
      ],
      "metadata": {
        "id": "iiVpNSq6-OPU"
      }
    },
    {
      "cell_type": "code",
      "source": [
        "model_cnn = Sequential()\n",
        "model_cnn.add(Embedding(vocab_size, embedding_matrix.shape[1], weights=[embedding_matrix], trainable=False))\n",
        "model_cnn.add(Conv1D(filters=64, kernel_size=3, activation='relu', padding='same'))\n",
        "model_cnn.add(MaxPooling1D(pool_size=2))\n",
        "model_cnn.add(Conv1D(filters=64, kernel_size=5, activation='relu', padding='same'))\n",
        "model_cnn.add(MaxPooling1D(pool_size=2))\n",
        "model_cnn.add(Conv1D(filters=64, kernel_size=7, activation='relu', padding='same'))\n",
        "model_cnn.add(GlobalMaxPooling1D())\n",
        "model_cnn.add(Dropout(0.1))\n",
        "model_cnn.add(Dense(500, activation=\"sigmoid\"))\n",
        "model_cnn.add(Dense(1, activation='sigmoid'))"
      ],
      "metadata": {
        "id": "pcjx9av8-Kfd"
      },
      "execution_count": 98,
      "outputs": []
    },
    {
      "cell_type": "code",
      "source": [
        "model_cnn.compile(loss='binary_crossentropy',\n",
        "              optimizer='adam',\n",
        "              metrics=['accuracy'])\n",
        "\n",
        "model_cnn.summary()\n",
        "batch_size_cnn = 64\n",
        "epochs_cnn = 10"
      ],
      "metadata": {
        "colab": {
          "base_uri": "https://localhost:8080/"
        },
        "id": "RX5K-eKD_UI1",
        "outputId": "a2a62d99-ebc6-4c5e-edeb-2c53da34f72b"
      },
      "execution_count": 94,
      "outputs": [
        {
          "output_type": "stream",
          "name": "stdout",
          "text": [
            "Model: \"sequential_2\"\n",
            "_________________________________________________________________\n",
            " Layer (type)                Output Shape              Param #   \n",
            "=================================================================\n",
            " embedding_1 (Embedding)     (None, None, 300)         1115400   \n",
            "                                                                 \n",
            " conv1d_3 (Conv1D)           (None, None, 64)          57664     \n",
            "                                                                 \n",
            " max_pooling1d_2 (MaxPooling  (None, None, 64)         0         \n",
            " 1D)                                                             \n",
            "                                                                 \n",
            " conv1d_4 (Conv1D)           (None, None, 64)          20544     \n",
            "                                                                 \n",
            " max_pooling1d_3 (MaxPooling  (None, None, 64)         0         \n",
            " 1D)                                                             \n",
            "                                                                 \n",
            " conv1d_5 (Conv1D)           (None, None, 64)          28736     \n",
            "                                                                 \n",
            " global_max_pooling1d_1 (Glo  (None, 64)               0         \n",
            " balMaxPooling1D)                                                \n",
            "                                                                 \n",
            " dropout_1 (Dropout)         (None, 64)                0         \n",
            "                                                                 \n",
            " dense_2 (Dense)             (None, 500)               32500     \n",
            "                                                                 \n",
            " dense_3 (Dense)             (None, 1)                 501       \n",
            "                                                                 \n",
            "=================================================================\n",
            "Total params: 1,255,345\n",
            "Trainable params: 139,945\n",
            "Non-trainable params: 1,115,400\n",
            "_________________________________________________________________\n"
          ]
        }
      ]
    },
    {
      "cell_type": "code",
      "source": [
        "# Train model\n",
        "hist_cnn = model_cnn.fit(x_train_padded, y_train, batch_size=batch_size_cnn, epochs=epochs_cnn)"
      ],
      "metadata": {
        "colab": {
          "base_uri": "https://localhost:8080/"
        },
        "id": "a793L17K_YdE",
        "outputId": "9733211c-6992-420c-f51f-d69136e91d96"
      },
      "execution_count": 95,
      "outputs": [
        {
          "output_type": "stream",
          "name": "stdout",
          "text": [
            "Epoch 1/10\n",
            "13/13 [==============================] - 2s 63ms/step - loss: 0.5559 - accuracy: 0.7575\n",
            "Epoch 2/10\n",
            "13/13 [==============================] - 0s 22ms/step - loss: 0.5501 - accuracy: 0.7575\n",
            "Epoch 3/10\n",
            "13/13 [==============================] - 0s 22ms/step - loss: 0.5343 - accuracy: 0.7575\n",
            "Epoch 4/10\n",
            "13/13 [==============================] - 0s 22ms/step - loss: 0.5057 - accuracy: 0.7600\n",
            "Epoch 5/10\n",
            "13/13 [==============================] - 0s 22ms/step - loss: 0.4641 - accuracy: 0.7638\n",
            "Epoch 6/10\n",
            "13/13 [==============================] - 0s 22ms/step - loss: 0.4424 - accuracy: 0.8188\n",
            "Epoch 7/10\n",
            "13/13 [==============================] - 0s 22ms/step - loss: 0.3360 - accuracy: 0.8375\n",
            "Epoch 8/10\n",
            "13/13 [==============================] - 0s 21ms/step - loss: 0.2372 - accuracy: 0.9062\n",
            "Epoch 9/10\n",
            "13/13 [==============================] - 0s 22ms/step - loss: 0.1641 - accuracy: 0.9438\n",
            "Epoch 10/10\n",
            "13/13 [==============================] - 0s 23ms/step - loss: 0.1055 - accuracy: 0.9688\n"
          ]
        }
      ]
    },
    {
      "cell_type": "code",
      "source": [
        "# Evaluate model on test\n",
        "loss_cnn, acc_cnn = model_cnn.evaluate(x_train_padded, y_train, verbose=0)\n",
        "print('Train Accuracy: %f' % (acc_cnn*100))"
      ],
      "metadata": {
        "colab": {
          "base_uri": "https://localhost:8080/"
        },
        "id": "hJKvuwVJApN8",
        "outputId": "292d2a45-7741-4a90-dbbf-9062eaa60b02"
      },
      "execution_count": 96,
      "outputs": [
        {
          "output_type": "stream",
          "name": "stdout",
          "text": [
            "Train Accuracy: 99.374998\n"
          ]
        }
      ]
    },
    {
      "cell_type": "code",
      "source": [
        "# Evaluate model on test\n",
        "loss_cnn, acc_cnn = model_cnn.evaluate(x_test_padded, y_test, verbose=0)\n",
        "print('Test Accuracy: %f' % (acc_cnn*100))"
      ],
      "metadata": {
        "colab": {
          "base_uri": "https://localhost:8080/"
        },
        "id": "tsnA4osf_xHF",
        "outputId": "e7e4a69e-9ac4-4994-ad0d-87abdc5658cc"
      },
      "execution_count": 97,
      "outputs": [
        {
          "output_type": "stream",
          "name": "stdout",
          "text": [
            "Test Accuracy: 72.941178\n"
          ]
        }
      ]
    },
    {
      "cell_type": "code",
      "source": [
        "# Get prediction label\n",
        "predict_x = model_cnn.predict(x_test_padded) \n",
        "y_pred_cnn =np.argmax(predict_x, axis=1)"
      ],
      "metadata": {
        "id": "D3E8dzMP_4Ek"
      },
      "execution_count": 92,
      "outputs": []
    },
    {
      "cell_type": "markdown",
      "source": [
        ""
      ],
      "metadata": {
        "id": "hmIShazVAhUb"
      }
    }
  ]
}